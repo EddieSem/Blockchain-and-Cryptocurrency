{
 "cells": [
  {
   "cell_type": "markdown",
   "metadata": {},
   "source": [
    "## Create two variables – one with your name and one with your age"
   ]
  },
  {
   "cell_type": "code",
   "execution_count": 1,
   "metadata": {},
   "outputs": [],
   "source": [
    "name = 'Eddie'\n",
    "age = 28\n"
   ]
  },
  {
   "cell_type": "markdown",
   "metadata": {},
   "source": [
    "## Create a function which prints your data as one string"
   ]
  },
  {
   "cell_type": "code",
   "execution_count": 2,
   "metadata": {},
   "outputs": [
    {
     "name": "stdout",
     "output_type": "stream",
     "text": [
      "Eddie28\n"
     ]
    }
   ],
   "source": [
    "def get_data(): \n",
    "    \"\"\" Returns the data name and age expressed as global variables \"\"\"\n",
    "    return (name + str(age))\n",
    "\n",
    "data = get_data()\n",
    "print(data)"
   ]
  },
  {
   "cell_type": "markdown",
   "metadata": {},
   "source": [
    "## Create a function which prints ANY data (two arguments) as one string "
   ]
  },
  {
   "cell_type": "code",
   "execution_count": 3,
   "metadata": {},
   "outputs": [
    {
     "name": "stdout",
     "output_type": "stream",
     "text": [
      "Your name please: rebecca\n",
      "Your age please: 334\n",
      "rebecca334\n"
     ]
    }
   ],
   "source": [
    "def get_data_input(name, age): \n",
    "    \"\"\" Returns the data: name and age expressed as local input variables \"\"\"\n",
    "    str = input('Your name please: ')\n",
    "    y = input('Your age please: ')\n",
    "    return (str + y)\n",
    "\n",
    "new_data = get_data_input(name, age)\n",
    "print(new_data)"
   ]
  },
  {
   "cell_type": "markdown",
   "metadata": {},
   "source": [
    "## Create a function which calculates and returns the number of decades you already lived (e.g. 23 = 2 decades)"
   ]
  },
  {
   "cell_type": "code",
   "execution_count": 6,
   "metadata": {},
   "outputs": [
    {
     "name": "stdout",
     "output_type": "stream",
     "text": [
      "Your age please:54\n",
      "You have lived for 5 decades\n"
     ]
    }
   ],
   "source": [
    "def decades_lived(x): \n",
    "    \"\"\" Returns the number of decades lived \"\"\"\n",
    "    y = x // 10\n",
    "    return (y)\n",
    "     \n",
    "age = int(input('Your age please:'))\n",
    "result = decades_lived(age)\n",
    "print(\"You have lived for\", result, \"decades\")"
   ]
  },
  {
   "cell_type": "code",
   "execution_count": null,
   "metadata": {},
   "outputs": [],
   "source": []
  }
 ],
 "metadata": {
  "kernelspec": {
   "display_name": "Python 3",
   "language": "python",
   "name": "python3"
  },
  "language_info": {
   "codemirror_mode": {
    "name": "ipython",
    "version": 3
   },
   "file_extension": ".py",
   "mimetype": "text/x-python",
   "name": "python",
   "nbconvert_exporter": "python",
   "pygments_lexer": "ipython3",
   "version": "3.7.0"
  }
 },
 "nbformat": 4,
 "nbformat_minor": 2
}
